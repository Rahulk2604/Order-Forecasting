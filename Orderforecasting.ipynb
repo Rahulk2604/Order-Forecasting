{
 "cells": [
  {
   "cell_type": "code",
   "execution_count": 1,
   "id": "9868f2de",
   "metadata": {},
   "outputs": [],
   "source": [
    "import pandas as pd\n",
    "import numpy as np\n",
    "import matplotlib.pyplot as plt"
   ]
  },
  {
   "cell_type": "code",
   "execution_count": 2,
   "id": "c2fb108e",
   "metadata": {},
   "outputs": [
    {
     "data": {
      "text/html": [
       "<div>\n",
       "<style scoped>\n",
       "    .dataframe tbody tr th:only-of-type {\n",
       "        vertical-align: middle;\n",
       "    }\n",
       "\n",
       "    .dataframe tbody tr th {\n",
       "        vertical-align: top;\n",
       "    }\n",
       "\n",
       "    .dataframe thead th {\n",
       "        text-align: right;\n",
       "    }\n",
       "</style>\n",
       "<table border=\"1\" class=\"dataframe\">\n",
       "  <thead>\n",
       "    <tr style=\"text-align: right;\">\n",
       "      <th></th>\n",
       "      <th>Time</th>\n",
       "      <th>Units Ordered</th>\n",
       "    </tr>\n",
       "  </thead>\n",
       "  <tbody>\n",
       "    <tr>\n",
       "      <th>0</th>\n",
       "      <td>2021-02-16 00:00:00</td>\n",
       "      <td>0</td>\n",
       "    </tr>\n",
       "    <tr>\n",
       "      <th>1</th>\n",
       "      <td>2021-02-17 00:00:00</td>\n",
       "      <td>1</td>\n",
       "    </tr>\n",
       "    <tr>\n",
       "      <th>2</th>\n",
       "      <td>2021-02-18 00:00:00</td>\n",
       "      <td>1</td>\n",
       "    </tr>\n",
       "    <tr>\n",
       "      <th>3</th>\n",
       "      <td>2021-02-19 00:00:00</td>\n",
       "      <td>2</td>\n",
       "    </tr>\n",
       "    <tr>\n",
       "      <th>4</th>\n",
       "      <td>2021-02-20 00:00:00</td>\n",
       "      <td>6</td>\n",
       "    </tr>\n",
       "    <tr>\n",
       "      <th>...</th>\n",
       "      <td>...</td>\n",
       "      <td>...</td>\n",
       "    </tr>\n",
       "    <tr>\n",
       "      <th>582</th>\n",
       "      <td>2022-09-21 00:00:00</td>\n",
       "      <td>4</td>\n",
       "    </tr>\n",
       "    <tr>\n",
       "      <th>583</th>\n",
       "      <td>2022-09-22 00:00:00</td>\n",
       "      <td>6</td>\n",
       "    </tr>\n",
       "    <tr>\n",
       "      <th>584</th>\n",
       "      <td>2022-09-23 00:00:00</td>\n",
       "      <td>4</td>\n",
       "    </tr>\n",
       "    <tr>\n",
       "      <th>585</th>\n",
       "      <td>2022-09-24 00:00:00</td>\n",
       "      <td>3</td>\n",
       "    </tr>\n",
       "    <tr>\n",
       "      <th>586</th>\n",
       "      <td>2022-09-25 00:00:00</td>\n",
       "      <td>2</td>\n",
       "    </tr>\n",
       "  </tbody>\n",
       "</table>\n",
       "<p>587 rows × 2 columns</p>\n",
       "</div>"
      ],
      "text/plain": [
       "                    Time  Units Ordered\n",
       "0    2021-02-16 00:00:00              0\n",
       "1    2021-02-17 00:00:00              1\n",
       "2    2021-02-18 00:00:00              1\n",
       "3    2021-02-19 00:00:00              2\n",
       "4    2021-02-20 00:00:00              6\n",
       "..                   ...            ...\n",
       "582  2022-09-21 00:00:00              4\n",
       "583  2022-09-22 00:00:00              6\n",
       "584  2022-09-23 00:00:00              4\n",
       "585  2022-09-24 00:00:00              3\n",
       "586  2022-09-25 00:00:00              2\n",
       "\n",
       "[587 rows x 2 columns]"
      ]
     },
     "execution_count": 2,
     "metadata": {},
     "output_type": "execute_result"
    }
   ],
   "source": [
    "df= pd.read_excel(r\"D:\\Xena\\project\\800CT-Twin-B08QCX9WKH.xlsx\",parse_dates=True)\n",
    "df"
   ]
  },
  {
   "cell_type": "code",
   "execution_count": 3,
   "id": "92df0963",
   "metadata": {},
   "outputs": [
    {
     "data": {
      "text/plain": [
       "pandas.core.series.Series"
      ]
     },
     "execution_count": 3,
     "metadata": {},
     "output_type": "execute_result"
    }
   ],
   "source": [
    "type(df['Time'])"
   ]
  },
  {
   "cell_type": "code",
   "execution_count": 4,
   "id": "42cb8db3",
   "metadata": {},
   "outputs": [],
   "source": [
    "df['Time']= pd.to_datetime(df['Time'])"
   ]
  },
  {
   "cell_type": "code",
   "execution_count": 5,
   "id": "3f25ef25",
   "metadata": {},
   "outputs": [
    {
     "data": {
      "text/plain": [
       "0     2021-02-16\n",
       "1     2021-02-17\n",
       "2     2021-02-18\n",
       "3     2021-02-19\n",
       "4     2021-02-20\n",
       "         ...    \n",
       "582   2022-09-21\n",
       "583   2022-09-22\n",
       "584   2022-09-23\n",
       "585   2022-09-24\n",
       "586   2022-09-25\n",
       "Name: Time, Length: 587, dtype: datetime64[ns]"
      ]
     },
     "execution_count": 5,
     "metadata": {},
     "output_type": "execute_result"
    }
   ],
   "source": [
    "df['Time']"
   ]
  },
  {
   "cell_type": "code",
   "execution_count": 6,
   "id": "050c65c0",
   "metadata": {},
   "outputs": [
    {
     "data": {
      "text/html": [
       "<div>\n",
       "<style scoped>\n",
       "    .dataframe tbody tr th:only-of-type {\n",
       "        vertical-align: middle;\n",
       "    }\n",
       "\n",
       "    .dataframe tbody tr th {\n",
       "        vertical-align: top;\n",
       "    }\n",
       "\n",
       "    .dataframe thead th {\n",
       "        text-align: right;\n",
       "    }\n",
       "</style>\n",
       "<table border=\"1\" class=\"dataframe\">\n",
       "  <thead>\n",
       "    <tr style=\"text-align: right;\">\n",
       "      <th></th>\n",
       "      <th>Time</th>\n",
       "      <th>Units Ordered</th>\n",
       "    </tr>\n",
       "  </thead>\n",
       "  <tbody>\n",
       "    <tr>\n",
       "      <th>0</th>\n",
       "      <td>16-02-2021</td>\n",
       "      <td>0</td>\n",
       "    </tr>\n",
       "    <tr>\n",
       "      <th>1</th>\n",
       "      <td>17-02-2021</td>\n",
       "      <td>1</td>\n",
       "    </tr>\n",
       "    <tr>\n",
       "      <th>2</th>\n",
       "      <td>18-02-2021</td>\n",
       "      <td>1</td>\n",
       "    </tr>\n",
       "    <tr>\n",
       "      <th>3</th>\n",
       "      <td>19-02-2021</td>\n",
       "      <td>2</td>\n",
       "    </tr>\n",
       "    <tr>\n",
       "      <th>4</th>\n",
       "      <td>20-02-2021</td>\n",
       "      <td>6</td>\n",
       "    </tr>\n",
       "    <tr>\n",
       "      <th>...</th>\n",
       "      <td>...</td>\n",
       "      <td>...</td>\n",
       "    </tr>\n",
       "    <tr>\n",
       "      <th>582</th>\n",
       "      <td>21-09-2022</td>\n",
       "      <td>4</td>\n",
       "    </tr>\n",
       "    <tr>\n",
       "      <th>583</th>\n",
       "      <td>22-09-2022</td>\n",
       "      <td>6</td>\n",
       "    </tr>\n",
       "    <tr>\n",
       "      <th>584</th>\n",
       "      <td>23-09-2022</td>\n",
       "      <td>4</td>\n",
       "    </tr>\n",
       "    <tr>\n",
       "      <th>585</th>\n",
       "      <td>24-09-2022</td>\n",
       "      <td>3</td>\n",
       "    </tr>\n",
       "    <tr>\n",
       "      <th>586</th>\n",
       "      <td>25-09-2022</td>\n",
       "      <td>2</td>\n",
       "    </tr>\n",
       "  </tbody>\n",
       "</table>\n",
       "<p>587 rows × 2 columns</p>\n",
       "</div>"
      ],
      "text/plain": [
       "           Time  Units Ordered\n",
       "0    16-02-2021              0\n",
       "1    17-02-2021              1\n",
       "2    18-02-2021              1\n",
       "3    19-02-2021              2\n",
       "4    20-02-2021              6\n",
       "..          ...            ...\n",
       "582  21-09-2022              4\n",
       "583  22-09-2022              6\n",
       "584  23-09-2022              4\n",
       "585  24-09-2022              3\n",
       "586  25-09-2022              2\n",
       "\n",
       "[587 rows x 2 columns]"
      ]
     },
     "execution_count": 6,
     "metadata": {},
     "output_type": "execute_result"
    }
   ],
   "source": [
    "df['Time']= df['Time'].dt.strftime('%d-%m-%Y')\n",
    "df"
   ]
  },
  {
   "cell_type": "code",
   "execution_count": 7,
   "id": "48eee8ca",
   "metadata": {},
   "outputs": [
    {
     "data": {
      "text/html": [
       "<div>\n",
       "<style scoped>\n",
       "    .dataframe tbody tr th:only-of-type {\n",
       "        vertical-align: middle;\n",
       "    }\n",
       "\n",
       "    .dataframe tbody tr th {\n",
       "        vertical-align: top;\n",
       "    }\n",
       "\n",
       "    .dataframe thead th {\n",
       "        text-align: right;\n",
       "    }\n",
       "</style>\n",
       "<table border=\"1\" class=\"dataframe\">\n",
       "  <thead>\n",
       "    <tr style=\"text-align: right;\">\n",
       "      <th></th>\n",
       "      <th>Units Ordered</th>\n",
       "    </tr>\n",
       "    <tr>\n",
       "      <th>Time</th>\n",
       "      <th></th>\n",
       "    </tr>\n",
       "  </thead>\n",
       "  <tbody>\n",
       "    <tr>\n",
       "      <th>16-02-2021</th>\n",
       "      <td>0</td>\n",
       "    </tr>\n",
       "    <tr>\n",
       "      <th>17-02-2021</th>\n",
       "      <td>1</td>\n",
       "    </tr>\n",
       "    <tr>\n",
       "      <th>18-02-2021</th>\n",
       "      <td>1</td>\n",
       "    </tr>\n",
       "    <tr>\n",
       "      <th>19-02-2021</th>\n",
       "      <td>2</td>\n",
       "    </tr>\n",
       "    <tr>\n",
       "      <th>20-02-2021</th>\n",
       "      <td>6</td>\n",
       "    </tr>\n",
       "    <tr>\n",
       "      <th>...</th>\n",
       "      <td>...</td>\n",
       "    </tr>\n",
       "    <tr>\n",
       "      <th>21-09-2022</th>\n",
       "      <td>4</td>\n",
       "    </tr>\n",
       "    <tr>\n",
       "      <th>22-09-2022</th>\n",
       "      <td>6</td>\n",
       "    </tr>\n",
       "    <tr>\n",
       "      <th>23-09-2022</th>\n",
       "      <td>4</td>\n",
       "    </tr>\n",
       "    <tr>\n",
       "      <th>24-09-2022</th>\n",
       "      <td>3</td>\n",
       "    </tr>\n",
       "    <tr>\n",
       "      <th>25-09-2022</th>\n",
       "      <td>2</td>\n",
       "    </tr>\n",
       "  </tbody>\n",
       "</table>\n",
       "<p>587 rows × 1 columns</p>\n",
       "</div>"
      ],
      "text/plain": [
       "            Units Ordered\n",
       "Time                     \n",
       "16-02-2021              0\n",
       "17-02-2021              1\n",
       "18-02-2021              1\n",
       "19-02-2021              2\n",
       "20-02-2021              6\n",
       "...                   ...\n",
       "21-09-2022              4\n",
       "22-09-2022              6\n",
       "23-09-2022              4\n",
       "24-09-2022              3\n",
       "25-09-2022              2\n",
       "\n",
       "[587 rows x 1 columns]"
      ]
     },
     "execution_count": 7,
     "metadata": {},
     "output_type": "execute_result"
    }
   ],
   "source": [
    "df= df.set_index('Time')\n",
    "df"
   ]
  },
  {
   "cell_type": "code",
   "execution_count": 8,
   "id": "51765b54",
   "metadata": {},
   "outputs": [
    {
     "data": {
      "text/plain": [
       "<AxesSubplot:xlabel='Time'>"
      ]
     },
     "execution_count": 8,
     "metadata": {},
     "output_type": "execute_result"
    },
    {
     "data": {
      "image/png": "[encoded data removed]",
      "text/plain": [
       "<Figure size 864x576 with 1 Axes>"
      ]
     },
     "metadata": {
      "needs_background": "light"
     },
     "output_type": "display_data"
    }
   ],
   "source": [
    "df.plot(figsize=(12,8))"
   ]
  },
  {
   "cell_type": "code",
   "execution_count": 9,
   "id": "37574275",
   "metadata": {},
   "outputs": [],
   "source": [
    "from statsmodels.tsa.seasonal import seasonal_decompose"
   ]
  },
  {
   "cell_type": "code",
   "execution_count": 10,
   "id": "b008cc7a",
   "metadata": {},
   "outputs": [
    {
     "data": {
      "image/png": "[encoded data removed]",
      "text/plain": [
       "<Figure size 432x288 with 4 Axes>"
      ]
     },
     "metadata": {
      "needs_background": "light"
     },
     "output_type": "display_data"
    }
   ],
   "source": [
    "sd= seasonal_decompose(df, period=293)\n",
    "sd.plot();"
   ]
  },
  {
   "cell_type": "code",
   "execution_count": 11,
   "id": "a4f19c41",
   "metadata": {},
   "outputs": [
    {
     "name": "stdout",
     "output_type": "stream",
     "text": [
      "Results of Dickey fuller test\n",
      "Test Statistics                 -3.290445\n",
      "p-value                          0.015311\n",
      "#Lags used                       0.000000\n",
      "Number of observations used    586.000000\n",
      "Critical Values (1%)            -3.441558\n",
      "Critical Values (5%)            -2.866485\n",
      "Critical Values (10%)           -2.569403\n",
      "dtype: float64\n"
     ]
    }
   ],
   "source": [
    "from statsmodels.tsa.stattools import adfuller\n",
    "\n",
    "print(\"Results of Dickey fuller test\")\n",
    "dftest= adfuller(df['Units Ordered'], autolag='AIC')\n",
    "\n",
    "dfout= pd.Series(dftest[0:4], index=['Test Statistics','p-value','#Lags used','Number of observations used'])\n",
    "for key,value in dftest[4].items():\n",
    "    dfout['Critical Values (%s)'%key]= value\n",
    "print(dfout)"
   ]
  },
  {
   "cell_type": "code",
   "execution_count": 12,
   "id": "01975315",
   "metadata": {},
   "outputs": [],
   "source": [
    "train_data= df.iloc[:470]\n",
    "test_data = df.iloc[470:]"
   ]
  },
  {
   "cell_type": "code",
   "execution_count": 13,
   "id": "3d44e643",
   "metadata": {},
   "outputs": [
    {
     "data": {
      "text/html": [
       "<div>\n",
       "<style scoped>\n",
       "    .dataframe tbody tr th:only-of-type {\n",
       "        vertical-align: middle;\n",
       "    }\n",
       "\n",
       "    .dataframe tbody tr th {\n",
       "        vertical-align: top;\n",
       "    }\n",
       "\n",
       "    .dataframe thead th {\n",
       "        text-align: right;\n",
       "    }\n",
       "</style>\n",
       "<table border=\"1\" class=\"dataframe\">\n",
       "  <thead>\n",
       "    <tr style=\"text-align: right;\">\n",
       "      <th></th>\n",
       "      <th>Units Ordered</th>\n",
       "    </tr>\n",
       "    <tr>\n",
       "      <th>Time</th>\n",
       "      <th></th>\n",
       "    </tr>\n",
       "  </thead>\n",
       "  <tbody>\n",
       "    <tr>\n",
       "      <th>16-02-2021</th>\n",
       "      <td>0</td>\n",
       "    </tr>\n",
       "    <tr>\n",
       "      <th>17-02-2021</th>\n",
       "      <td>1</td>\n",
       "    </tr>\n",
       "    <tr>\n",
       "      <th>18-02-2021</th>\n",
       "      <td>1</td>\n",
       "    </tr>\n",
       "    <tr>\n",
       "      <th>19-02-2021</th>\n",
       "      <td>2</td>\n",
       "    </tr>\n",
       "    <tr>\n",
       "      <th>20-02-2021</th>\n",
       "      <td>6</td>\n",
       "    </tr>\n",
       "    <tr>\n",
       "      <th>...</th>\n",
       "      <td>...</td>\n",
       "    </tr>\n",
       "    <tr>\n",
       "      <th>27-05-2022</th>\n",
       "      <td>8</td>\n",
       "    </tr>\n",
       "    <tr>\n",
       "      <th>28-05-2022</th>\n",
       "      <td>8</td>\n",
       "    </tr>\n",
       "    <tr>\n",
       "      <th>29-05-2022</th>\n",
       "      <td>8</td>\n",
       "    </tr>\n",
       "    <tr>\n",
       "      <th>30-05-2022</th>\n",
       "      <td>7</td>\n",
       "    </tr>\n",
       "    <tr>\n",
       "      <th>31-05-2022</th>\n",
       "      <td>8</td>\n",
       "    </tr>\n",
       "  </tbody>\n",
       "</table>\n",
       "<p>470 rows × 1 columns</p>\n",
       "</div>"
      ],
      "text/plain": [
       "            Units Ordered\n",
       "Time                     \n",
       "16-02-2021              0\n",
       "17-02-2021              1\n",
       "18-02-2021              1\n",
       "19-02-2021              2\n",
       "20-02-2021              6\n",
       "...                   ...\n",
       "27-05-2022              8\n",
       "28-05-2022              8\n",
       "29-05-2022              8\n",
       "30-05-2022              7\n",
       "31-05-2022              8\n",
       "\n",
       "[470 rows x 1 columns]"
      ]
     },
     "execution_count": 13,
     "metadata": {},
     "output_type": "execute_result"
    }
   ],
   "source": [
    "train_data"
   ]
  },
  {
   "cell_type": "code",
   "execution_count": 14,
   "id": "4cc1e90f",
   "metadata": {},
   "outputs": [
    {
     "data": {
      "text/html": [
       "<div>\n",
       "<style scoped>\n",
       "    .dataframe tbody tr th:only-of-type {\n",
       "        vertical-align: middle;\n",
       "    }\n",
       "\n",
       "    .dataframe tbody tr th {\n",
       "        vertical-align: top;\n",
       "    }\n",
       "\n",
       "    .dataframe thead th {\n",
       "        text-align: right;\n",
       "    }\n",
       "</style>\n",
       "<table border=\"1\" class=\"dataframe\">\n",
       "  <thead>\n",
       "    <tr style=\"text-align: right;\">\n",
       "      <th></th>\n",
       "      <th>Units Ordered</th>\n",
       "    </tr>\n",
       "    <tr>\n",
       "      <th>Time</th>\n",
       "      <th></th>\n",
       "    </tr>\n",
       "  </thead>\n",
       "  <tbody>\n",
       "    <tr>\n",
       "      <th>01-06-2022</th>\n",
       "      <td>8</td>\n",
       "    </tr>\n",
       "    <tr>\n",
       "      <th>02-06-2022</th>\n",
       "      <td>7</td>\n",
       "    </tr>\n",
       "    <tr>\n",
       "      <th>03-06-2022</th>\n",
       "      <td>5</td>\n",
       "    </tr>\n",
       "    <tr>\n",
       "      <th>04-06-2022</th>\n",
       "      <td>8</td>\n",
       "    </tr>\n",
       "    <tr>\n",
       "      <th>05-06-2022</th>\n",
       "      <td>6</td>\n",
       "    </tr>\n",
       "    <tr>\n",
       "      <th>...</th>\n",
       "      <td>...</td>\n",
       "    </tr>\n",
       "    <tr>\n",
       "      <th>21-09-2022</th>\n",
       "      <td>4</td>\n",
       "    </tr>\n",
       "    <tr>\n",
       "      <th>22-09-2022</th>\n",
       "      <td>6</td>\n",
       "    </tr>\n",
       "    <tr>\n",
       "      <th>23-09-2022</th>\n",
       "      <td>4</td>\n",
       "    </tr>\n",
       "    <tr>\n",
       "      <th>24-09-2022</th>\n",
       "      <td>3</td>\n",
       "    </tr>\n",
       "    <tr>\n",
       "      <th>25-09-2022</th>\n",
       "      <td>2</td>\n",
       "    </tr>\n",
       "  </tbody>\n",
       "</table>\n",
       "<p>117 rows × 1 columns</p>\n",
       "</div>"
      ],
      "text/plain": [
       "            Units Ordered\n",
       "Time                     \n",
       "01-06-2022              8\n",
       "02-06-2022              7\n",
       "03-06-2022              5\n",
       "04-06-2022              8\n",
       "05-06-2022              6\n",
       "...                   ...\n",
       "21-09-2022              4\n",
       "22-09-2022              6\n",
       "23-09-2022              4\n",
       "24-09-2022              3\n",
       "25-09-2022              2\n",
       "\n",
       "[117 rows x 1 columns]"
      ]
     },
     "execution_count": 14,
     "metadata": {},
     "output_type": "execute_result"
    }
   ],
   "source": [
    "test_data"
   ]
  },
  {
   "cell_type": "code",
   "execution_count": 15,
   "id": "4949577e",
   "metadata": {},
   "outputs": [],
   "source": [
    "from sklearn.preprocessing import MinMaxScaler\n",
    "scaler = MinMaxScaler()"
   ]
  },
  {
   "cell_type": "code",
   "execution_count": 16,
   "id": "a50dca34",
   "metadata": {},
   "outputs": [],
   "source": [
    "train= scaler.fit_transform(train_data)\n",
    "test= scaler.transform(test_data)"
   ]
  },
  {
   "cell_type": "code",
   "execution_count": 17,
   "id": "e5d0cb46",
   "metadata": {},
   "outputs": [
    {
     "data": {
      "text/plain": [
       "470"
      ]
     },
     "execution_count": 17,
     "metadata": {},
     "output_type": "execute_result"
    }
   ],
   "source": [
    "len(train)"
   ]
  },
  {
   "cell_type": "code",
   "execution_count": 18,
   "id": "22c8f8ce",
   "metadata": {},
   "outputs": [
    {
     "data": {
      "text/plain": [
       "117"
      ]
     },
     "execution_count": 18,
     "metadata": {},
     "output_type": "execute_result"
    }
   ],
   "source": [
    "len(test)"
   ]
  },
  {
   "cell_type": "code",
   "execution_count": 19,
   "id": "48ca355e",
   "metadata": {},
   "outputs": [],
   "source": [
    "X_train = []\n",
    "Y_train = []"
   ]
  },
  {
   "cell_type": "code",
   "execution_count": 20,
   "id": "e4ce1228",
   "metadata": {},
   "outputs": [],
   "source": [
    "timesteps = 3"
   ]
  },
  {
   "cell_type": "code",
   "execution_count": 21,
   "id": "bb4fe1a2",
   "metadata": {},
   "outputs": [],
   "source": [
    "for i in range(timesteps,train.shape[0]):\n",
    "        X_train.append(train[i-timesteps:i])\n",
    "        Y_train.append(train[i][0])"
   ]
  },
  {
   "cell_type": "code",
   "execution_count": 22,
   "id": "ec566ba9",
   "metadata": {},
   "outputs": [],
   "source": [
    "X_train,Y_train = np.array(X_train),np.array(Y_train)"
   ]
  },
  {
   "cell_type": "code",
   "execution_count": 23,
   "id": "d4376439",
   "metadata": {},
   "outputs": [
    {
     "data": {
      "text/plain": [
       "array([[[0.        ],\n",
       "        [0.04166667],\n",
       "        [0.04166667]],\n",
       "\n",
       "       [[0.04166667],\n",
       "        [0.04166667],\n",
       "        [0.08333333]],\n",
       "\n",
       "       [[0.04166667],\n",
       "        [0.08333333],\n",
       "        [0.25      ]],\n",
       "\n",
       "       ...,\n",
       "\n",
       "       [[0.375     ],\n",
       "        [0.33333333],\n",
       "        [0.33333333]],\n",
       "\n",
       "       [[0.33333333],\n",
       "        [0.33333333],\n",
       "        [0.33333333]],\n",
       "\n",
       "       [[0.33333333],\n",
       "        [0.33333333],\n",
       "        [0.29166667]]])"
      ]
     },
     "execution_count": 23,
     "metadata": {},
     "output_type": "execute_result"
    }
   ],
   "source": [
    "X_train"
   ]
  },
  {
   "cell_type": "code",
   "execution_count": 24,
   "id": "8c7697d2",
   "metadata": {},
   "outputs": [
    {
     "data": {
      "text/plain": [
       "467"
      ]
     },
     "execution_count": 24,
     "metadata": {},
     "output_type": "execute_result"
    }
   ],
   "source": [
    "len(X_train)"
   ]
  },
  {
   "cell_type": "code",
   "execution_count": 25,
   "id": "b35bd430",
   "metadata": {},
   "outputs": [],
   "source": [
    "import tensorflow as tf\n",
    "from tensorflow.keras.models import Sequential, load_model\n",
    "from tensorflow.keras.layers import Dense\n",
    "from tensorflow.keras.layers import LSTM\n",
    "from tensorflow.keras import optimizers"
   ]
  },
  {
   "cell_type": "code",
   "execution_count": 27,
   "id": "6ee2335d",
   "metadata": {},
   "outputs": [
    {
     "data": {
      "text/plain": [
       "(467, 3, 1)"
      ]
     },
     "execution_count": 27,
     "metadata": {},
     "output_type": "execute_result"
    }
   ],
   "source": [
    "X_train.shape"
   ]
  },
  {
   "cell_type": "code",
   "execution_count": 28,
   "id": "7fdeb8ea",
   "metadata": {},
   "outputs": [],
   "source": [
    "model = Sequential()\n",
    "\n",
    "model.add(LSTM(32,input_shape = (X_train.shape[1],X_train.shape[2]),return_sequences = True,activation = 'relu'))        \n",
    "model.add(LSTM(16,activation = 'relu',return_sequences = True))\n",
    "model.add(LSTM(8,activation = 'relu'))\n",
    "model.add(Dense(1))\n",
    "\n",
    "model.compile(optimizer = 'adam', loss = 'mean_squared_error')"
   ]
  },
  {
   "cell_type": "code",
   "execution_count": 29,
   "id": "9c1de540",
   "metadata": {},
   "outputs": [
    {
     "name": "stdout",
     "output_type": "stream",
     "text": [
      "Epoch 1/100\n",
      "15/15 [==============================] - 2s 7ms/step - loss: 0.1218\n",
      "Epoch 2/100\n",
      "15/15 [==============================] - 0s 6ms/step - loss: 0.0953\n",
      "Epoch 3/100\n",
      "15/15 [==============================] - 0s 5ms/step - loss: 0.0684\n",
      "Epoch 4/100\n",
      "15/15 [==============================] - 0s 5ms/step - loss: 0.0426\n",
      "Epoch 5/100\n",
      "15/15 [==============================] - 0s 5ms/step - loss: 0.0257\n",
      "Epoch 6/100\n",
      "15/15 [==============================] - 0s 5ms/step - loss: 0.0225\n",
      "Epoch 7/100\n",
      "15/15 [==============================] - 0s 5ms/step - loss: 0.0224\n",
      "Epoch 8/100\n",
      "15/15 [==============================] - 0s 5ms/step - loss: 0.0203\n",
      "Epoch 9/100\n",
      "15/15 [==============================] - 0s 5ms/step - loss: 0.0180\n",
      "Epoch 10/100\n",
      "15/15 [==============================] - 0s 5ms/step - loss: 0.0161\n",
      "Epoch 11/100\n",
      "15/15 [==============================] - 0s 5ms/step - loss: 0.0143\n",
      "Epoch 12/100\n",
      "15/15 [==============================] - 0s 5ms/step - loss: 0.0128\n",
      "Epoch 13/100\n",
      "15/15 [==============================] - 0s 6ms/step - loss: 0.0116\n",
      "Epoch 14/100\n",
      "15/15 [==============================] - 0s 7ms/step - loss: 0.0107\n",
      "Epoch 15/100\n",
      "15/15 [==============================] - 0s 7ms/step - loss: 0.0102\n",
      "Epoch 16/100\n",
      "15/15 [==============================] - 0s 5ms/step - loss: 0.0099\n",
      "Epoch 17/100\n",
      "15/15 [==============================] - 0s 5ms/step - loss: 0.0098\n",
      "Epoch 18/100\n",
      "15/15 [==============================] - 0s 5ms/step - loss: 0.0097\n",
      "Epoch 19/100\n",
      "15/15 [==============================] - 0s 5ms/step - loss: 0.0096\n",
      "Epoch 20/100\n",
      "15/15 [==============================] - 0s 6ms/step - loss: 0.0095\n",
      "Epoch 21/100\n",
      "15/15 [==============================] - 0s 6ms/step - loss: 0.0095\n",
      "Epoch 22/100\n",
      "15/15 [==============================] - 0s 6ms/step - loss: 0.0094\n",
      "Epoch 23/100\n",
      "15/15 [==============================] - 0s 6ms/step - loss: 0.0094\n",
      "Epoch 24/100\n",
      "15/15 [==============================] - 0s 6ms/step - loss: 0.0093\n",
      "Epoch 25/100\n",
      "15/15 [==============================] - 0s 6ms/step - loss: 0.0092\n",
      "Epoch 26/100\n",
      "15/15 [==============================] - 0s 6ms/step - loss: 0.0092\n",
      "Epoch 27/100\n",
      "15/15 [==============================] - 0s 9ms/step - loss: 0.0092\n",
      "Epoch 28/100\n",
      "15/15 [==============================] - 0s 6ms/step - loss: 0.0091\n",
      "Epoch 29/100\n",
      "15/15 [==============================] - 0s 5ms/step - loss: 0.0091\n",
      "Epoch 30/100\n",
      "15/15 [==============================] - 0s 5ms/step - loss: 0.0090\n",
      "Epoch 31/100\n",
      "15/15 [==============================] - 0s 5ms/step - loss: 0.0089\n",
      "Epoch 32/100\n",
      "15/15 [==============================] - 0s 5ms/step - loss: 0.0089\n",
      "Epoch 33/100\n",
      "15/15 [==============================] - 0s 4ms/step - loss: 0.0088\n",
      "Epoch 34/100\n",
      "15/15 [==============================] - 0s 4ms/step - loss: 0.0087\n",
      "Epoch 35/100\n",
      "15/15 [==============================] - 0s 4ms/step - loss: 0.0086\n",
      "Epoch 36/100\n",
      "15/15 [==============================] - 0s 4ms/step - loss: 0.0086\n",
      "Epoch 37/100\n",
      "15/15 [==============================] - 0s 4ms/step - loss: 0.0085\n",
      "Epoch 38/100\n",
      "15/15 [==============================] - 0s 5ms/step - loss: 0.0084\n",
      "Epoch 39/100\n",
      "15/15 [==============================] - 0s 5ms/step - loss: 0.0084\n",
      "Epoch 40/100\n",
      "15/15 [==============================] - 0s 5ms/step - loss: 0.0083\n",
      "Epoch 41/100\n",
      "15/15 [==============================] - 0s 5ms/step - loss: 0.0082\n",
      "Epoch 42/100\n",
      "15/15 [==============================] - 0s 5ms/step - loss: 0.0082\n",
      "Epoch 43/100\n",
      "15/15 [==============================] - 0s 8ms/step - loss: 0.0081\n",
      "Epoch 44/100\n",
      "15/15 [==============================] - 0s 7ms/step - loss: 0.0081\n",
      "Epoch 45/100\n",
      "15/15 [==============================] - 0s 6ms/step - loss: 0.0080\n",
      "Epoch 46/100\n",
      "15/15 [==============================] - 0s 6ms/step - loss: 0.0079\n",
      "Epoch 47/100\n",
      "15/15 [==============================] - 0s 6ms/step - loss: 0.0079\n",
      "Epoch 48/100\n",
      "15/15 [==============================] - 0s 6ms/step - loss: 0.0078\n",
      "Epoch 49/100\n",
      "15/15 [==============================] - 0s 5ms/step - loss: 0.0078\n",
      "Epoch 50/100\n",
      "15/15 [==============================] - 0s 5ms/step - loss: 0.0077\n",
      "Epoch 51/100\n",
      "15/15 [==============================] - 0s 5ms/step - loss: 0.0077\n",
      "Epoch 52/100\n",
      "15/15 [==============================] - 0s 5ms/step - loss: 0.0076\n",
      "Epoch 53/100\n",
      "15/15 [==============================] - 0s 6ms/step - loss: 0.0075\n",
      "Epoch 54/100\n",
      "15/15 [==============================] - 0s 6ms/step - loss: 0.0075\n",
      "Epoch 55/100\n",
      "15/15 [==============================] - 0s 6ms/step - loss: 0.0074\n",
      "Epoch 56/100\n",
      "15/15 [==============================] - 0s 7ms/step - loss: 0.0074\n",
      "Epoch 57/100\n",
      "15/15 [==============================] - 0s 8ms/step - loss: 0.0073\n",
      "Epoch 58/100\n",
      "15/15 [==============================] - 0s 5ms/step - loss: 0.0072\n",
      "Epoch 59/100\n",
      "15/15 [==============================] - 0s 5ms/step - loss: 0.0072\n",
      "Epoch 60/100\n",
      "15/15 [==============================] - 0s 5ms/step - loss: 0.0071\n",
      "Epoch 61/100\n",
      "15/15 [==============================] - 0s 5ms/step - loss: 0.0071\n",
      "Epoch 62/100\n",
      "15/15 [==============================] - 0s 5ms/step - loss: 0.0070\n",
      "Epoch 63/100\n",
      "15/15 [==============================] - 0s 5ms/step - loss: 0.0070\n",
      "Epoch 64/100\n",
      "15/15 [==============================] - 0s 5ms/step - loss: 0.0069\n",
      "Epoch 65/100\n",
      "15/15 [==============================] - 0s 5ms/step - loss: 0.0069\n",
      "Epoch 66/100\n",
      "15/15 [==============================] - 0s 6ms/step - loss: 0.0068\n",
      "Epoch 67/100\n",
      "15/15 [==============================] - 0s 6ms/step - loss: 0.0068\n",
      "Epoch 68/100\n",
      "15/15 [==============================] - 0s 5ms/step - loss: 0.0067\n",
      "Epoch 69/100\n",
      "15/15 [==============================] - 0s 5ms/step - loss: 0.0067\n",
      "Epoch 70/100\n",
      "15/15 [==============================] - 0s 5ms/step - loss: 0.0066\n",
      "Epoch 71/100\n",
      "15/15 [==============================] - 0s 8ms/step - loss: 0.0066\n",
      "Epoch 72/100\n",
      "15/15 [==============================] - 0s 7ms/step - loss: 0.0065\n",
      "Epoch 73/100\n",
      "15/15 [==============================] - 0s 6ms/step - loss: 0.0065\n",
      "Epoch 74/100\n",
      "15/15 [==============================] - 0s 5ms/step - loss: 0.0065\n",
      "Epoch 75/100\n",
      "15/15 [==============================] - 0s 5ms/step - loss: 0.0064\n",
      "Epoch 76/100\n",
      "15/15 [==============================] - 0s 5ms/step - loss: 0.0064\n",
      "Epoch 77/100\n",
      "15/15 [==============================] - 0s 5ms/step - loss: 0.0063\n",
      "Epoch 78/100\n",
      "15/15 [==============================] - 0s 5ms/step - loss: 0.0063\n",
      "Epoch 79/100\n",
      "15/15 [==============================] - 0s 5ms/step - loss: 0.0063\n",
      "Epoch 80/100\n",
      "15/15 [==============================] - 0s 5ms/step - loss: 0.0062\n",
      "Epoch 81/100\n",
      "15/15 [==============================] - 0s 5ms/step - loss: 0.0062\n",
      "Epoch 82/100\n",
      "15/15 [==============================] - 0s 5ms/step - loss: 0.0062\n",
      "Epoch 83/100\n",
      "15/15 [==============================] - 0s 5ms/step - loss: 0.0062\n",
      "Epoch 84/100\n",
      "15/15 [==============================] - 0s 5ms/step - loss: 0.0061\n",
      "Epoch 85/100\n",
      "15/15 [==============================] - 0s 6ms/step - loss: 0.0061\n",
      "Epoch 86/100\n",
      "15/15 [==============================] - 0s 8ms/step - loss: 0.0061\n",
      "Epoch 87/100\n",
      "15/15 [==============================] - 0s 5ms/step - loss: 0.0061\n",
      "Epoch 88/100\n",
      "15/15 [==============================] - 0s 6ms/step - loss: 0.0061\n",
      "Epoch 89/100\n",
      "15/15 [==============================] - 0s 6ms/step - loss: 0.0061\n",
      "Epoch 90/100\n",
      "15/15 [==============================] - 0s 5ms/step - loss: 0.0061\n",
      "Epoch 91/100\n",
      "15/15 [==============================] - 0s 6ms/step - loss: 0.0061\n",
      "Epoch 92/100\n",
      "15/15 [==============================] - 0s 6ms/step - loss: 0.0060\n",
      "Epoch 93/100\n",
      "15/15 [==============================] - 0s 5ms/step - loss: 0.0060\n",
      "Epoch 94/100\n",
      "15/15 [==============================] - 0s 5ms/step - loss: 0.0060\n",
      "Epoch 95/100\n",
      "15/15 [==============================] - 0s 6ms/step - loss: 0.0060\n",
      "Epoch 96/100\n",
      "15/15 [==============================] - 0s 6ms/step - loss: 0.0060\n",
      "Epoch 97/100\n",
      "15/15 [==============================] - 0s 5ms/step - loss: 0.0060\n",
      "Epoch 98/100\n",
      "15/15 [==============================] - 0s 5ms/step - loss: 0.0060\n",
      "Epoch 99/100\n",
      "15/15 [==============================] - 0s 6ms/step - loss: 0.0060\n",
      "Epoch 100/100\n",
      "15/15 [==============================] - 0s 7ms/step - loss: 0.0060\n"
     ]
    },
    {
     "data": {
      "text/plain": [
       "<keras.callbacks.History at 0x1c7353f72e0>"
      ]
     },
     "execution_count": 29,
     "metadata": {},
     "output_type": "execute_result"
    }
   ],
   "source": [
    "model.fit(X_train,Y_train,epochs = 100,verbose = 1,shuffle = False)"
   ]
  },
  {
   "cell_type": "code",
   "execution_count": 30,
   "id": "6f61ed3a",
   "metadata": {},
   "outputs": [],
   "source": [
    "from sklearn.metrics import mean_squared_error,r2_score"
   ]
  },
  {
   "cell_type": "code",
   "execution_count": 31,
   "id": "fd6c5126",
   "metadata": {},
   "outputs": [],
   "source": [
    "X_test = []\n",
    "Y_test = []\n",
    "\n",
    "    # Loop for testing data\n",
    "for i in range(50,test.shape[0]):\n",
    "        X_test.append(test[i-timesteps:i])\n",
    "        Y_test.append(test[i][0])\n",
    "X_test,Y_test = np.array(X_test),np.array(Y_test)"
   ]
  },
  {
   "cell_type": "code",
   "execution_count": 32,
   "id": "aab45f04",
   "metadata": {},
   "outputs": [
    {
     "name": "stdout",
     "output_type": "stream",
     "text": [
      "0.032044346467323806 0.17900934743002614 0.91430678457313\n"
     ]
    }
   ],
   "source": [
    "Y_hat = model.predict(X_test)\n",
    "mse = mean_squared_error(Y_test,Y_hat)\n",
    "rmse = np.sqrt(mse)\n",
    "r = r2_score(Y_test,Y_hat)\n",
    "print(mse, rmse, r)"
   ]
  },
  {
   "cell_type": "code",
   "execution_count": 42,
   "id": "10dc1cc0",
   "metadata": {},
   "outputs": [
    {
     "data": {
      "image/png": "[encoded data removed]",
      "text/plain": [
       "<Figure size 720x360 with 1 Axes>"
      ]
     },
     "metadata": {
      "needs_background": "light"
     },
     "output_type": "display_data"
    }
   ],
   "source": [
    "plt.plot(Y_test,c = 'r')\n",
    "plt.plot(Y_hat,c = 'y')\n",
    "plt.xlabel('Day')\n",
    "plt.ylabel('Unit')\n",
    "plt.title('lstm test-prediciton')\n",
    "plt.legend(['Actual','Predicted'],loc = 'lower right')\n",
    "plt.rcParams[\"figure.figsize\"] = (10,5)\n",
    "plt.show()"
   ]
  },
  {
   "cell_type": "code",
   "execution_count": 34,
   "id": "6b99b6d1",
   "metadata": {},
   "outputs": [
    {
     "name": "stdout",
     "output_type": "stream",
     "text": [
      "0.0059536628399805645 0.07715998211495752 0.840709762572493\n"
     ]
    }
   ],
   "source": [
    "y_hat = model.predict(X_train)\n",
    "mse = mean_squared_error(Y_train,y_hat)\n",
    "rmse = np.sqrt(mse)\n",
    "r = r2_score(Y_train,y_hat)\n",
    "print(mse, rmse, r)"
   ]
  },
  {
   "cell_type": "code",
   "execution_count": 41,
   "id": "f9c6f9d4",
   "metadata": {},
   "outputs": [
    {
     "data": {
      "image/png": "[encoded data removed]",
      "text/plain": [
       "<Figure size 576x360 with 1 Axes>"
      ]
     },
     "metadata": {
      "needs_background": "light"
     },
     "output_type": "display_data"
    }
   ],
   "source": [
    "plt.plot(Y_train,c = 'r')\n",
    "plt.plot(y_hat,c = 'y')\n",
    "plt.xlabel('Day')\n",
    "plt.ylabel('Unit')\n",
    "plt.title('lstm train-prediciton')\n",
    "plt.legend(['Actual','Predicted'],loc = 'lower right')\n",
    "plt.rcParams[\"figure.figsize\"] = (10,5)\n",
    "plt.show()"
   ]
  },
  {
   "cell_type": "code",
   "execution_count": null,
   "id": "712d8a66",
   "metadata": {},
   "outputs": [],
   "source": []
  }
 ],
 "metadata": {
  "kernelspec": {
   "display_name": "Python 3",
   "language": "python",
   "name": "python3"
  },
  "language_info": {
   "codemirror_mode": {
    "name": "ipython",
    "version": 3
   },
   "file_extension": ".py",
   "mimetype": "text/x-python",
   "name": "python",
   "nbconvert_exporter": "python",
   "pygments_lexer": "ipython3",
   "version": "3.8.8"
  }
 },
 "nbformat": 4,
 "nbformat_minor": 5
}
